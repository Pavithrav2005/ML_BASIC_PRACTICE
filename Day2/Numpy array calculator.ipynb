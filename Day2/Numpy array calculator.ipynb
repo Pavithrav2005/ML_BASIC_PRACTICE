{
  "nbformat": 4,
  "nbformat_minor": 0,
  "metadata": {
    "colab": {
      "provenance": []
    },
    "kernelspec": {
      "name": "python3",
      "display_name": "Python 3"
    },
    "language_info": {
      "name": "python"
    }
  },
  "cells": [
    {
      "cell_type": "markdown",
      "source": [
        "Step 1:Import Required Library\n"
      ],
      "metadata": {
        "id": "r6zOnQQPCQ6m"
      }
    },
    {
      "cell_type": "code",
      "execution_count": 1,
      "metadata": {
        "id": "Yt49iT60CNPD"
      },
      "outputs": [],
      "source": [
        "import numpy as np"
      ]
    },
    {
      "cell_type": "markdown",
      "source": [
        "Step 2: Take User Input for Arrays"
      ],
      "metadata": {
        "id": "jwmX6OUMCV9n"
      }
    },
    {
      "cell_type": "code",
      "source": [
        "def get_array(prompt):\n",
        "    print(prompt)\n",
        "    arr = input(\"Enter the array elements separated by space: \")\n",
        "    arr_list = list(map(float, arr.strip().split()))\n",
        "    return np.array(arr_list)"
      ],
      "metadata": {
        "id": "6xqCnlKkCaVh"
      },
      "execution_count": 5,
      "outputs": []
    },
    {
      "cell_type": "markdown",
      "source": [
        "Step 3: Define Arithmetic Operation Functions"
      ],
      "metadata": {
        "id": "SxJ1et63CdqI"
      }
    },
    {
      "cell_type": "code",
      "source": [
        "def add_arrays(arr1, arr2):\n",
        "    return arr1 + arr2\n",
        "\n",
        "def subtract_arrays(arr1, arr2):\n",
        "    return arr1 - arr2\n",
        "\n",
        "def multiply_arrays(arr1, arr2):\n",
        "    return arr1 * arr2\n",
        "\n",
        "def divide_arrays(arr1, arr2):\n",
        "    # Handle division by zero\n",
        "    with np.errstate(divide='ignore', invalid='ignore'):\n",
        "        result = np.true_divide(arr1, arr2)\n",
        "        result[~np.isfinite(result)] = 0\n",
        "    return result"
      ],
      "metadata": {
        "id": "83aCMwrQCgyd"
      },
      "execution_count": 6,
      "outputs": []
    },
    {
      "cell_type": "code",
      "source": [
        "def array_calculator():\n",
        "    arr1 = get_array(\"Enter the first array:\")\n",
        "    arr2 = get_array(\"Enter the second array:\")\n",
        "\n",
        "    if arr1.shape != arr2.shape:\n",
        "        print(\"Arrays must be of the same shape!\")\n",
        "        return\n",
        "\n",
        "    print(\"\\nSelect Operation:\")\n",
        "    print(\"1. Addition\")\n",
        "    print(\"2. Subtraction\")\n",
        "    print(\"3. Multiplication\")\n",
        "    print(\"4. Division\")\n",
        "\n",
        "    choice = input(\"Enter your choice (1/2/3/4): \")\n",
        "\n",
        "    if choice == '1':\n",
        "        result = add_arrays(arr1, arr2)\n",
        "        print(\"Result of Addition:\", result)\n",
        "    elif choice == '2':\n",
        "        result = subtract_arrays(arr1, arr2)\n",
        "        print(\"Result of Subtraction:\", result)\n",
        "    elif choice == '3':\n",
        "        result = multiply_arrays(arr1, arr2)\n",
        "        print(\"Result of Multiplication:\", result)\n",
        "    elif choice == '4':\n",
        "        result = divide_arrays(arr1, arr2)\n",
        "        print(\"Result of Division:\", result)\n",
        "    else:\n",
        "        print(\"Invalid choice!\")\n"
      ],
      "metadata": {
        "id": "QXmrX2cBCkQL"
      },
      "execution_count": 4,
      "outputs": []
    },
    {
      "cell_type": "code",
      "source": [
        "array_calculator()"
      ],
      "metadata": {
        "colab": {
          "base_uri": "https://localhost:8080/"
        },
        "id": "rYwZnlDRCqlh",
        "outputId": "3f901cc4-ce7d-4fcc-e96b-58653f354368"
      },
      "execution_count": 7,
      "outputs": [
        {
          "output_type": "stream",
          "name": "stdout",
          "text": [
            "Enter the first array:\n",
            "Enter the array elements separated by space: 1 2 3 4 5 6\n",
            "Enter the second array:\n",
            "Enter the array elements separated by space: 2 3 4 5 7 8\n",
            "\n",
            "Select Operation:\n",
            "1. Addition\n",
            "2. Subtraction\n",
            "3. Multiplication\n",
            "4. Division\n",
            "Enter your choice (1/2/3/4): 1\n",
            "Result of Addition: [ 3.  5.  7.  9. 12. 14.]\n"
          ]
        }
      ]
    }
  ]
}